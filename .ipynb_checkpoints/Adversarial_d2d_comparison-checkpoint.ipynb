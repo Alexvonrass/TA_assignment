{
 "cells": [
  {
   "cell_type": "code",
   "execution_count": 1,
   "metadata": {},
   "outputs": [],
   "source": [
    "%matplotlib inline\n",
    "import pandas as pd\n",
    "import numpy as np\n",
    "import seaborn as sns\n",
    "import geopy.distance"
   ]
  },
  {
   "cell_type": "code",
   "execution_count": 2,
   "metadata": {},
   "outputs": [
    {
     "name": "stdout",
     "output_type": "stream",
     "text": [
      "(47007, 10) (298, 3) 31179 13\n"
     ]
    }
   ],
   "source": [
    "eve = pd.read_csv(r'input/events.csv', parse_dates=['ts','date_from', 'date_to'], dtype={\n",
    "    'event_type':'category', 'origin':'str', 'destination':'str', 'user_id':'category'\n",
    "    , 'num_adults':np.int32, 'num_children':np.int32})\n",
    "\n",
    "#Looks like iata_csv has duplicates by iata_code, we'll take mean of lat and lon to get rid of these\n",
    "#, we could also just keep a random observation for each iata_code as there seems to be little variance\n",
    "geo = pd.read_csv(r'input/iata.csv').groupby('iata_code').agg({'lat':'mean', 'lon':'mean'}).reset_index()\n",
    "#Transofrm target variable\n",
    "eve['target']=np.int32(eve['event_type']=='book')\n",
    "eve.sort_values(by = 'ts', inplace=True)\n",
    "print(eve.shape, geo.shape, eve['user_id'].nunique(), (eve['ts'].max() - eve['ts'].min()).days)"
   ]
  },
  {
   "cell_type": "code",
   "execution_count": 3,
   "metadata": {},
   "outputs": [
    {
     "name": "stdout",
     "output_type": "stream",
     "text": [
      "(47007, 11)\n",
      "Wall time: 21.3 s\n"
     ]
    }
   ],
   "source": [
    "%%time\n",
    "from itertools import permutations\n",
    "assert(eve['origin'].isin(geo['iata_code']).all()&eve['destination'].isin(geo['iata_code']).all())\n",
    "iata_pairs = pd.DataFrame([(x[0], y[0], geopy.distance.geodesic((x[1], x[2]), (y[1], y[2])).km) for (x, y) in permutations(zip(geo['iata_code'], geo['lat'], geo['lon']), 2)])\n",
    "iata_pairs.columns = ['origin', 'destination', 'distance_km']\n",
    "eve = eve.merge(iata_pairs, on = ['origin', 'destination'], how = 'left')\n",
    "print(eve.shape)"
   ]
  },
  {
   "cell_type": "code",
   "execution_count": 4,
   "metadata": {},
   "outputs": [
    {
     "name": "stdout",
     "output_type": "stream",
     "text": [
      "(47007, 40)\n"
     ]
    }
   ],
   "source": [
    "def feat_eng_time_cat(df):\n",
    "    #These are probably quite important\n",
    "    #df['day_of_week'] = df['ts'].dt.dayofweek  #bad feature, overfit\n",
    "    df['hour'] = df['ts'].dt.hour\n",
    "    \n",
    "    #This might be important if people are more likely to book trips after getting their wages (for example at the end of the month)\n",
    "    df['day'] = df['ts'].dt.day \n",
    "    \n",
    "    #These are probably not needed, but doesn't hurt to check\n",
    "    #df['minute'] = df['ts'].dt.minute\n",
    "    #df['second'] = df['ts'].dt.second\n",
    "    return df\n",
    "\n",
    "def feat_eng_time_delta(df):\n",
    "    #This adds time delta from time of search to date of the beginning of the trip and length of stay\n",
    "    #df['time_to_trip'] = (df['date_from'] - df['ts']).dt.days\n",
    "    df['trip_length'] = (df['date_to'] - df['date_from']).dt.days\n",
    "    return df\n",
    "\n",
    "def feat_eng_user_searches(df, time_windows = ['1h', '1d']):\n",
    "    for tw in time_windows:\n",
    "        df['user_searches_last_'+tw] = df.set_index('ts').groupby('user_id').rolling(tw, closed='left')['target'].count().fillna(0).values\n",
    "    return df\n",
    "\n",
    "def feat_eng_origin_searches(df, time_windows = ['1h', '1d']):\n",
    "    for tw in time_windows:\n",
    "        df['origin_searches_last_'+tw] = df.set_index('ts').groupby('origin').rolling(tw, closed='left')['target'].count().fillna(0).values\n",
    "        df['origin_target_mean_last_'+tw] = df.set_index('ts').groupby('origin').rolling(tw, closed='left')['target'].mean().fillna(0).values\n",
    "    return df\n",
    "\n",
    "def feat_eng_total_searches(df, time_windows = ['300s', '1h', '2h', '6h', '1d']):\n",
    "    for tw in time_windows:\n",
    "        df['total_searches_last_'+tw] = df.set_index('ts').rolling(tw, closed='left')['target'].count().fillna(0).values\n",
    "        tmp = df.set_index('ts').rolling(str(int(tw[:-1])*2) + tw[-1], closed='left')['target'].count().fillna(0).values\n",
    "        df['total_searches_last_'+tw+'_ratio'] = df['total_searches_last_'+tw]/(tmp)\n",
    "        df['total_searches_last_'+tw+'_ratio'].fillna(0, inplace=True)\n",
    "        df['total_target_mean_last_'+tw] = df.set_index('ts').rolling(tw, closed='left')['target'].sum().fillna(0).values\n",
    "        tmp = df.set_index('ts').rolling(str(int(tw[:-1])*2) + tw[-1], closed='left')['target'].sum().fillna(0).values\n",
    "        df['total_target_mean_last_'+tw+'_ratio'] = df['total_target_mean_last_'+tw]/(tmp)\n",
    "        df['total_target_mean_last_'+tw+'_ratio'].fillna(0, inplace=True)\n",
    "    return df\n",
    "\n",
    "eve = feat_eng_total_searches(feat_eng_origin_searches(feat_eng_user_searches(feat_eng_time_cat(feat_eng_time_delta(eve)))))\n",
    "#eve = feat_eng_time_cat(feat_eng_time_delta(eve))\n",
    "print(eve.shape)"
   ]
  },
  {
   "cell_type": "code",
   "execution_count": 5,
   "metadata": {},
   "outputs": [],
   "source": [
    "eve = eve[(eve['ts'].dt.date > eve['ts'].min().date()+pd.Timedelta('2d'))].copy()"
   ]
  },
  {
   "cell_type": "code",
   "execution_count": 8,
   "metadata": {},
   "outputs": [],
   "source": [
    "features = eve.columns[~eve.columns.isin(['ts', 'event_type', 'user_id', 'date_to', 'date_from', 'origin', 'destination', 'target', 'day'])].tolist()\n",
    "#features = ['num_adults', 'distance_km', 'trip_length', 'total_target_mean_last_300s_ratio', 'total_target_mean_last_2h']"
   ]
  },
  {
   "cell_type": "code",
   "execution_count": 9,
   "metadata": {},
   "outputs": [],
   "source": [
    "params = {\n",
    "    'task': 'train',\n",
    "    'boosting_type': 'gbdt',\n",
    "    'objective': 'binary',\n",
    "    'num_leaves': 32,\n",
    "    'max_depth': 6,\n",
    "    'learning_rate': 0.05,\n",
    "    'feature_fraction': 0.7,\n",
    "    'bagging_fraction': 0.7,\n",
    "    'pos_bagging_fraction':1.,\n",
    "    'neg_bagging_fraction': 0.2,\n",
    "    'min_sum_hessian_in_leaf ': 1e1,\n",
    "    'min_data_in_leaf': 100,\n",
    "    'lambda_l1':2e1,\n",
    "    'min_gain_to_split':1e1,\n",
    "    'bagging_freq': 5,\n",
    "    'metric':'auc',\n",
    "    'verbose': 0\n",
    "}"
   ]
  },
  {
   "cell_type": "code",
   "execution_count": 29,
   "metadata": {},
   "outputs": [
    {
     "data": {
      "text/plain": [
       "['num_adults',\n",
       " 'num_children',\n",
       " 'distance_km',\n",
       " 'trip_length',\n",
       " 'hour',\n",
       " 'user_searches_last_1h',\n",
       " 'user_searches_last_1d',\n",
       " 'origin_searches_last_1h',\n",
       " 'origin_target_mean_last_1h',\n",
       " 'origin_searches_last_1d',\n",
       " 'origin_target_mean_last_1d',\n",
       " 'total_searches_last_300s',\n",
       " 'total_searches_last_300s_ratio',\n",
       " 'total_target_mean_last_300s',\n",
       " 'total_target_mean_last_300s_ratio',\n",
       " 'total_searches_last_1h',\n",
       " 'total_searches_last_1h_ratio',\n",
       " 'total_target_mean_last_1h',\n",
       " 'total_target_mean_last_1h_ratio',\n",
       " 'total_searches_last_2h',\n",
       " 'total_searches_last_2h_ratio',\n",
       " 'total_target_mean_last_2h',\n",
       " 'total_target_mean_last_2h_ratio',\n",
       " 'total_searches_last_6h',\n",
       " 'total_searches_last_6h_ratio',\n",
       " 'total_target_mean_last_6h',\n",
       " 'total_target_mean_last_6h_ratio',\n",
       " 'total_searches_last_1d',\n",
       " 'total_searches_last_1d_ratio',\n",
       " 'total_target_mean_last_1d',\n",
       " 'total_target_mean_last_1d_ratio']"
      ]
     },
     "execution_count": 29,
     "metadata": {},
     "output_type": "execute_result"
    }
   ],
   "source": [
    "eve.columns[~eve.columns.isin(['ts', 'event_type', 'user_id', 'date_to', 'date_from', 'origin', 'destination', 'target', 'day'])].tolist()"
   ]
  },
  {
   "cell_type": "code",
   "execution_count": 56,
   "metadata": {},
   "outputs": [],
   "source": [
    "import lightgbm as lgb\n",
    "features = ['num_adults', 'num_children', 'distance_km', 'trip_length', 'hour', 'origin_int', 'dest_int']"
   ]
  },
  {
   "cell_type": "code",
   "execution_count": 55,
   "metadata": {},
   "outputs": [
    {
     "data": {
      "text/plain": [
       "<matplotlib.axes._subplots.AxesSubplot at 0x1c720f2d828>"
      ]
     },
     "execution_count": 55,
     "metadata": {},
     "output_type": "execute_result"
    },
    {
     "data": {
      "image/png": "[encoded data removed]",
      "text/plain": [
       "<Figure size 432x288 with 1 Axes>"
      ]
     },
     "metadata": {},
     "output_type": "display_data"
    }
   ],
   "source": [
    "sns.distplot(tmp.loc[tmp['target']==1, features])\n",
    "sns.distplot(tmp.loc[tmp['target']==0, features])"
   ]
  },
  {
   "cell_type": "code",
   "execution_count": 47,
   "metadata": {},
   "outputs": [
    {
     "data": {
      "text/plain": [
       "<matplotlib.axes._subplots.AxesSubplot at 0x1c723512e80>"
      ]
     },
     "execution_count": 47,
     "metadata": {},
     "output_type": "execute_result"
    },
    {
     "data": {
      "image/png": "[encoded data removed]",
      "text/plain": [
       "<Figure size 432x288 with 1 Axes>"
      ]
     },
     "metadata": {},
     "output_type": "display_data"
    }
   ],
   "source": [
    "sns.distplot(eve.loc[eve['ts'].dt.date == pd.datetime(2017, 5, 1).date(), features])"
   ]
  },
  {
   "cell_type": "code",
   "execution_count": 58,
   "metadata": {},
   "outputs": [
    {
     "name": "stderr",
     "output_type": "stream",
     "text": [
      "C:\\Users\\Alex\\Anaconda3\\lib\\site-packages\\lightgbm\\basic.py:1040: UserWarning: Using categorical_feature in Dataset.\n",
      "  warnings.warn('Using categorical_feature in Dataset.')\n",
      "C:\\Users\\Alex\\Anaconda3\\lib\\site-packages\\lightgbm\\basic.py:685: UserWarning: categorical_feature in param dict is overridden.\n",
      "  warnings.warn('categorical_feature in param dict is overridden.')\n"
     ]
    },
    {
     "name": "stdout",
     "output_type": "stream",
     "text": [
      "2017-04-21 0.6487600094293277\n",
      "2017-04-22 0.6973513410409489\n",
      "2017-04-23 0.6431061005277552\n",
      "2017-04-24 0.5825952739214195\n",
      "2017-04-25 0.5424135597926424\n",
      "2017-04-26 0.7387308938187308\n",
      "2017-04-27 0.5929557930606107\n",
      "2017-04-28 0.919561969164773\n"
     ]
    }
   ],
   "source": [
    "LENGTH = 4\n",
    "for dt in eve['ts'].dt.date.unique()[:-LENGTH]:\n",
    "    tmp = eve.loc[eve['ts'].dt.date <= dt+pd.Timedelta(str(LENGTH)+'d')].copy()\n",
    "    tmp['target'] = 0\n",
    "    tmp.loc[tmp['ts'].dt.date == dt+pd.Timedelta(str(LENGTH)+'d'), 'target'] = 1\n",
    "    tmp['origin'] = tmp['origin'].astype('category')\n",
    "    tmp['origin_int'] = tmp['origin'].cat.codes\n",
    "    tmp['destination'] = tmp['destination'].astype('category')\n",
    "    tmp['dest_int'] = tmp['destination'].cat.codes\n",
    "    cat = ['hour', 'day_of_week', 'origin_int', 'dest_int']\n",
    "    cat = [c for c in cat if c in features]\n",
    "    data = lgb.Dataset(tmp[features], tmp['target'], feature_name=features, categorical_feature=cat)\n",
    "    cv = lgb.cv(params, data, num_boost_round=10)\n",
    "    print(dt, cv['auc-mean'][-1])\n"
   ]
  }
 ],
 "metadata": {
  "kernelspec": {
   "display_name": "Python 3",
   "language": "python",
   "name": "python3"
  },
  "language_info": {
   "codemirror_mode": {
    "name": "ipython",
    "version": 3
   },
   "file_extension": ".py",
   "mimetype": "text/x-python",
   "name": "python",
   "nbconvert_exporter": "python",
   "pygments_lexer": "ipython3",
   "version": "3.6.4"
  }
 },
 "nbformat": 4,
 "nbformat_minor": 2
}
