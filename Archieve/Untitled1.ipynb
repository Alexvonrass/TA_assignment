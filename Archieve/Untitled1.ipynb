{
 "cells": [
  {
   "cell_type": "code",
   "execution_count": 5,
   "metadata": {},
   "outputs": [
    {
     "name": "stdout",
     "output_type": "stream",
     "text": [
      "(47007, 11)\n",
      "function [feat_eng_distance] finished in 16840 ms\n",
      "(47007, 11)\n",
      "function [feat_eng_time_cat] finished in 4 ms\n",
      "function [feat_eng_time_delta] finished in 3 ms\n",
      "function [feat_eng_user_searches_tw] finished in 70745 ms\n",
      "function [feat_eng_origin_searches_tw] finished in 1282 ms\n",
      "function [feat_eng_total_searches_tw] finished in 245 ms\n",
      "Dataframe shape is (47007, 51), it has 31179 unique user_ids, and there are 13 distinct days in the dataset\n"
     ]
    },
    {
     "name": "stderr",
     "output_type": "stream",
     "text": [
      "/home/alexvonrass/anaconda3/envs/ta_assignment/lib/python3.6/site-packages/lightgbm/basic.py:1205: UserWarning: Using categorical_feature in Dataset.\n",
      "  warnings.warn('Using categorical_feature in Dataset.')\n"
     ]
    },
    {
     "name": "stdout",
     "output_type": "stream",
     "text": [
      "[50]\ttraining's auc: 0.617191\tvalid_1's auc: 0.6186\n"
     ]
    },
    {
     "name": "stderr",
     "output_type": "stream",
     "text": [
      "/home/alexvonrass/anaconda3/envs/ta_assignment/lib/python3.6/site-packages/lightgbm/basic.py:1205: UserWarning: Using categorical_feature in Dataset.\n",
      "  warnings.warn('Using categorical_feature in Dataset.')\n"
     ]
    },
    {
     "name": "stdout",
     "output_type": "stream",
     "text": [
      "[50]\ttraining's auc: 0.618522\tvalid_1's auc: 0.584498\n"
     ]
    },
    {
     "name": "stderr",
     "output_type": "stream",
     "text": [
      "/home/alexvonrass/anaconda3/envs/ta_assignment/lib/python3.6/site-packages/lightgbm/basic.py:1205: UserWarning: Using categorical_feature in Dataset.\n",
      "  warnings.warn('Using categorical_feature in Dataset.')\n"
     ]
    },
    {
     "name": "stdout",
     "output_type": "stream",
     "text": [
      "[50]\ttraining's auc: 0.617043\tvalid_1's auc: 0.645757\n",
      "(47007, 11)\n",
      "function [feat_eng_distance] finished in 16293 ms\n",
      "(47007, 11)\n",
      "function [feat_eng_time_cat] finished in 4 ms\n",
      "function [feat_eng_time_delta] finished in 5 ms\n",
      "function [feat_eng_user_searches_tw] finished in 70069 ms\n",
      "function [feat_eng_origin_searches_tw] finished in 1251 ms\n",
      "function [feat_eng_total_searches_tw] finished in 180 ms\n",
      "Dataframe shape is (47007, 51), it has 31179 unique user_ids, and there are 13 distinct days in the dataset\n"
     ]
    },
    {
     "name": "stderr",
     "output_type": "stream",
     "text": [
      "/home/alexvonrass/anaconda3/envs/ta_assignment/lib/python3.6/site-packages/lightgbm/basic.py:1205: UserWarning: Using categorical_feature in Dataset.\n",
      "  warnings.warn('Using categorical_feature in Dataset.')\n"
     ]
    },
    {
     "name": "stdout",
     "output_type": "stream",
     "text": [
      "[50]\ttraining's auc: 0.617191\tvalid_1's auc: 0.6186\n"
     ]
    },
    {
     "name": "stderr",
     "output_type": "stream",
     "text": [
      "/home/alexvonrass/anaconda3/envs/ta_assignment/lib/python3.6/site-packages/lightgbm/basic.py:1205: UserWarning: Using categorical_feature in Dataset.\n",
      "  warnings.warn('Using categorical_feature in Dataset.')\n"
     ]
    },
    {
     "name": "stdout",
     "output_type": "stream",
     "text": [
      "[50]\ttraining's auc: 0.618522\tvalid_1's auc: 0.584498\n",
      "[50]\ttraining's auc: 0.617043\tvalid_1's auc: 0.645757\n"
     ]
    },
    {
     "name": "stderr",
     "output_type": "stream",
     "text": [
      "/home/alexvonrass/anaconda3/envs/ta_assignment/lib/python3.6/site-packages/lightgbm/basic.py:1205: UserWarning: Using categorical_feature in Dataset.\n",
      "  warnings.warn('Using categorical_feature in Dataset.')\n"
     ]
    }
   ],
   "source": [
    "from feature_engineering import *\n",
    "from train import *   \n",
    "    \n",
    "model = ProcessingAndModel(r'input/events.csv', r'input/iata.csv', 'lgb_params_v0.npy')\n",
    "model.feat_eng_build_model()"
   ]
  },
  {
   "cell_type": "code",
   "execution_count": 8,
   "metadata": {},
   "outputs": [
    {
     "data": {
      "text/plain": [
       "Index(['ts', 'event_type', 'user_id', 'date_from', 'date_to', 'origin',\n",
       "       'destination', 'num_adults', 'num_children', 'target', 'distance_km',\n",
       "       'day_of_week', 'hour', 'day', 'time_to_trip', 'trip_length',\n",
       "       'user_searches_last_300s', 'user_searches_last_1h',\n",
       "       'user_searches_last_2h', 'user_searches_last_6h',\n",
       "       'user_searches_last_1d', 'origin_searches_last_300s',\n",
       "       'origin_target_mean_last_300s', 'origin_searches_last_1h',\n",
       "       'origin_target_mean_last_1h', 'origin_searches_last_2h',\n",
       "       'origin_target_mean_last_2h', 'origin_searches_last_6h',\n",
       "       'origin_target_mean_last_6h', 'origin_searches_last_1d',\n",
       "       'origin_target_mean_last_1d', 'total_searches_last_300s',\n",
       "       'total_searches_last_300s_ratio', 'total_target_mean_last_300s',\n",
       "       'total_target_mean_last_300s_ratio', 'total_searches_last_1h',\n",
       "       'total_searches_last_1h_ratio', 'total_target_mean_last_1h',\n",
       "       'total_target_mean_last_1h_ratio', 'total_searches_last_2h',\n",
       "       'total_searches_last_2h_ratio', 'total_target_mean_last_2h',\n",
       "       'total_target_mean_last_2h_ratio', 'total_searches_last_6h',\n",
       "       'total_searches_last_6h_ratio', 'total_target_mean_last_6h',\n",
       "       'total_target_mean_last_6h_ratio', 'total_searches_last_1d',\n",
       "       'total_searches_last_1d_ratio', 'total_target_mean_last_1d',\n",
       "       'total_target_mean_last_1d_ratio'],\n",
       "      dtype='object')"
      ]
     },
     "execution_count": 8,
     "metadata": {},
     "output_type": "execute_result"
    }
   ],
   "source": [
    "model.eve.columns"
   ]
  },
  {
   "cell_type": "code",
   "execution_count": 6,
   "metadata": {},
   "outputs": [
    {
     "data": {
      "text/plain": [
       "['num_adults',\n",
       " 'distance_km',\n",
       " 'trip_length',\n",
       " 'total_target_mean_last_300s_ratio']"
      ]
     },
     "execution_count": 6,
     "metadata": {},
     "output_type": "execute_result"
    }
   ],
   "source": [
    "model.features = ['num_adults', 'distance_km', 'trip_length', 'total_target_mean_last_300s_ratio',\n",
    "                 'origin_int', 'dest_int', 'user_searches_last_1d', 'origin_target_mean_last_2h',\n",
    "                 'total_searches_last_300s_ratio', 'total_target_mean_last_300s', 'total_searches_last_6h']"
   ]
  },
  {
   "cell_type": "code",
   "execution_count": null,
   "metadata": {},
   "outputs": [],
   "source": [
    "model.eve.shape"
   ]
  },
  {
   "cell_type": "code",
   "execution_count": 1,
   "metadata": {},
   "outputs": [],
   "source": [
    "params = {\n",
    "    'task': 'train',\n",
    "    'boosting_type': 'gbdt',\n",
    "    'objective': 'binary',\n",
    "    'num_leaves': 32,\n",
    "    'max_depth': 6,\n",
    "    'learning_rate': 0.05,\n",
    "    'feature_fraction': 0.7,\n",
    "    'bagging_fraction': 0.7,\n",
    "    'min_data_in_leaf': 100,\n",
    "    'lambda_l1':2e1,\n",
    "    'min_gain_to_split':1e1,\n",
    "    'bagging_freq': 5,\n",
    "    'metric':'auc',\n",
    "    'verbose': 0\n",
    "}"
   ]
  },
  {
   "cell_type": "code",
   "execution_count": 2,
   "metadata": {},
   "outputs": [],
   "source": [
    "import numpy as np\n",
    "np.save('lgb_params_v0.npy', params)"
   ]
  },
  {
   "cell_type": "code",
   "execution_count": 3,
   "metadata": {},
   "outputs": [],
   "source": [
    "a = np.load('lgb_params_v0.npy', allow_pickle=True).item()"
   ]
  }
 ],
 "metadata": {
  "kernelspec": {
   "display_name": "Python 3",
   "language": "python",
   "name": "python3"
  },
  "language_info": {
   "codemirror_mode": {
    "name": "ipython",
    "version": 3
   },
   "file_extension": ".py",
   "mimetype": "text/x-python",
   "name": "python",
   "nbconvert_exporter": "python",
   "pygments_lexer": "ipython3",
   "version": "3.6.8"
  }
 },
 "nbformat": 4,
 "nbformat_minor": 4
}
